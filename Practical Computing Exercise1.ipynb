{
 "cells": [
  {
   "cell_type": "markdown",
   "metadata": {},
   "source": [
    "## Practical Computing"
   ]
  },
  {
   "cell_type": "markdown",
   "metadata": {},
   "source": [
    "### Exercise 1:Write a simple, short program to calculate and print area of one of the biggest faces and volume of a rectangular cuboid with the dimensions given below: Length (l) = 30cm Breadth (b) = 20cm Height(h) = 15cm"
   ]
  },
  {
   "cell_type": "code",
   "execution_count": 1,
   "metadata": {},
   "outputs": [],
   "source": [
    "def bigestface(length,breath):\n",
    "    a= length* breath\n",
    "    #Arear formula\n",
    "    print('Area of one of the biggest faces:',a)\n",
    "    #Print Area of biggest face in output\n",
    "    return"
   ]
  },
  {
   "cell_type": "code",
   "execution_count": 2,
   "metadata": {},
   "outputs": [],
   "source": [
    "def volume(l,b,h):\n",
    "    volume= l*b*h\n",
    "    #Volume formula\n",
    "    print(\"Volume of a rectangular cuboid: \",volume)\n",
    "    #Print Volume in output\n",
    "    return"
   ]
  },
  {
   "cell_type": "code",
   "execution_count": 3,
   "metadata": {},
   "outputs": [
    {
     "name": "stdout",
     "output_type": "stream",
     "text": [
      "Area of one of the biggest faces: 600\n",
      "Volume of a rectangular cuboid:  9000\n"
     ]
    }
   ],
   "source": [
    "length= 30\n",
    "breath= 20\n",
    "height= 15\n",
    "\n",
    "area= bigestface(length,breath)\n",
    "#Calling Function bigestface\n",
    "volume= volume(length,breath,height)\n",
    "#Calling Function volume"
   ]
  },
  {
   "cell_type": "code",
   "execution_count": null,
   "metadata": {},
   "outputs": [],
   "source": []
  }
 ],
 "metadata": {
  "kernelspec": {
   "display_name": "Python 3",
   "language": "python",
   "name": "python3"
  },
  "language_info": {
   "codemirror_mode": {
    "name": "ipython",
    "version": 3
   },
   "file_extension": ".py",
   "mimetype": "text/x-python",
   "name": "python",
   "nbconvert_exporter": "python",
   "pygments_lexer": "ipython3",
   "version": "3.8.5"
  },
  "varInspector": {
   "cols": {
    "lenName": 16,
    "lenType": 16,
    "lenVar": 40
   },
   "kernels_config": {
    "python": {
     "delete_cmd_postfix": "",
     "delete_cmd_prefix": "del ",
     "library": "var_list.py",
     "varRefreshCmd": "print(var_dic_list())"
    },
    "r": {
     "delete_cmd_postfix": ") ",
     "delete_cmd_prefix": "rm(",
     "library": "var_list.r",
     "varRefreshCmd": "cat(var_dic_list()) "
    }
   },
   "types_to_exclude": [
    "module",
    "function",
    "builtin_function_or_method",
    "instance",
    "_Feature"
   ],
   "window_display": false
  }
 },
 "nbformat": 4,
 "nbformat_minor": 4
}
